{
 "cells": [
  {
   "cell_type": "code",
   "execution_count": 110,
   "id": "ca619d2b",
   "metadata": {},
   "outputs": [],
   "source": [
    "import pandas as pd\n",
    "import matplotlib.pyplot as plt"
   ]
  },
  {
   "cell_type": "code",
   "execution_count": 111,
   "id": "e3388e81",
   "metadata": {},
   "outputs": [],
   "source": [
    "df = pd.read_csv(\"E:\\PES\\SEM2\\Refer\\ML\\ML_Datasets-20230613T052137Z-001\\ML_Datasets\\Housing.csv\")"
   ]
  },
  {
   "cell_type": "code",
   "execution_count": 112,
   "id": "ee29fe94",
   "metadata": {},
   "outputs": [
    {
     "data": {
      "text/html": [
       "<div>\n",
       "<style scoped>\n",
       "    .dataframe tbody tr th:only-of-type {\n",
       "        vertical-align: middle;\n",
       "    }\n",
       "\n",
       "    .dataframe tbody tr th {\n",
       "        vertical-align: top;\n",
       "    }\n",
       "\n",
       "    .dataframe thead th {\n",
       "        text-align: right;\n",
       "    }\n",
       "</style>\n",
       "<table border=\"1\" class=\"dataframe\">\n",
       "  <thead>\n",
       "    <tr style=\"text-align: right;\">\n",
       "      <th></th>\n",
       "      <th>Unnamed: 0</th>\n",
       "      <th>price</th>\n",
       "      <th>lotsize</th>\n",
       "      <th>bedrooms</th>\n",
       "      <th>bathrms</th>\n",
       "      <th>stories</th>\n",
       "      <th>driveway</th>\n",
       "      <th>recroom</th>\n",
       "      <th>fullbase</th>\n",
       "      <th>gashw</th>\n",
       "      <th>airco</th>\n",
       "      <th>garagepl</th>\n",
       "      <th>prefarea</th>\n",
       "    </tr>\n",
       "  </thead>\n",
       "  <tbody>\n",
       "    <tr>\n",
       "      <th>0</th>\n",
       "      <td>1</td>\n",
       "      <td>42000.0</td>\n",
       "      <td>5850</td>\n",
       "      <td>3</td>\n",
       "      <td>1</td>\n",
       "      <td>2</td>\n",
       "      <td>yes</td>\n",
       "      <td>no</td>\n",
       "      <td>yes</td>\n",
       "      <td>no</td>\n",
       "      <td>no</td>\n",
       "      <td>1</td>\n",
       "      <td>no</td>\n",
       "    </tr>\n",
       "    <tr>\n",
       "      <th>1</th>\n",
       "      <td>2</td>\n",
       "      <td>38500.0</td>\n",
       "      <td>4000</td>\n",
       "      <td>2</td>\n",
       "      <td>1</td>\n",
       "      <td>1</td>\n",
       "      <td>yes</td>\n",
       "      <td>no</td>\n",
       "      <td>no</td>\n",
       "      <td>no</td>\n",
       "      <td>no</td>\n",
       "      <td>0</td>\n",
       "      <td>no</td>\n",
       "    </tr>\n",
       "    <tr>\n",
       "      <th>2</th>\n",
       "      <td>3</td>\n",
       "      <td>49500.0</td>\n",
       "      <td>3060</td>\n",
       "      <td>3</td>\n",
       "      <td>1</td>\n",
       "      <td>1</td>\n",
       "      <td>yes</td>\n",
       "      <td>no</td>\n",
       "      <td>no</td>\n",
       "      <td>no</td>\n",
       "      <td>no</td>\n",
       "      <td>0</td>\n",
       "      <td>no</td>\n",
       "    </tr>\n",
       "    <tr>\n",
       "      <th>3</th>\n",
       "      <td>4</td>\n",
       "      <td>60500.0</td>\n",
       "      <td>6650</td>\n",
       "      <td>3</td>\n",
       "      <td>1</td>\n",
       "      <td>2</td>\n",
       "      <td>yes</td>\n",
       "      <td>yes</td>\n",
       "      <td>no</td>\n",
       "      <td>no</td>\n",
       "      <td>no</td>\n",
       "      <td>0</td>\n",
       "      <td>no</td>\n",
       "    </tr>\n",
       "    <tr>\n",
       "      <th>4</th>\n",
       "      <td>5</td>\n",
       "      <td>61000.0</td>\n",
       "      <td>6360</td>\n",
       "      <td>2</td>\n",
       "      <td>1</td>\n",
       "      <td>1</td>\n",
       "      <td>yes</td>\n",
       "      <td>no</td>\n",
       "      <td>no</td>\n",
       "      <td>no</td>\n",
       "      <td>no</td>\n",
       "      <td>0</td>\n",
       "      <td>no</td>\n",
       "    </tr>\n",
       "  </tbody>\n",
       "</table>\n",
       "</div>"
      ],
      "text/plain": [
       "   Unnamed: 0    price  lotsize  bedrooms  bathrms  stories driveway recroom  \\\n",
       "0           1  42000.0     5850         3        1        2      yes      no   \n",
       "1           2  38500.0     4000         2        1        1      yes      no   \n",
       "2           3  49500.0     3060         3        1        1      yes      no   \n",
       "3           4  60500.0     6650         3        1        2      yes     yes   \n",
       "4           5  61000.0     6360         2        1        1      yes      no   \n",
       "\n",
       "  fullbase gashw airco  garagepl prefarea  \n",
       "0      yes    no    no         1       no  \n",
       "1       no    no    no         0       no  \n",
       "2       no    no    no         0       no  \n",
       "3       no    no    no         0       no  \n",
       "4       no    no    no         0       no  "
      ]
     },
     "execution_count": 112,
     "metadata": {},
     "output_type": "execute_result"
    }
   ],
   "source": [
    "df.head()\n"
   ]
  },
  {
   "cell_type": "code",
   "execution_count": 113,
   "id": "cee98dd9",
   "metadata": {},
   "outputs": [
    {
     "name": "stdout",
     "output_type": "stream",
     "text": [
      "<class 'pandas.core.frame.DataFrame'>\n",
      "RangeIndex: 546 entries, 0 to 545\n",
      "Data columns (total 13 columns):\n",
      " #   Column      Non-Null Count  Dtype  \n",
      "---  ------      --------------  -----  \n",
      " 0   Unnamed: 0  546 non-null    int64  \n",
      " 1   price       546 non-null    float64\n",
      " 2   lotsize     546 non-null    int64  \n",
      " 3   bedrooms    546 non-null    int64  \n",
      " 4   bathrms     546 non-null    int64  \n",
      " 5   stories     546 non-null    int64  \n",
      " 6   driveway    546 non-null    object \n",
      " 7   recroom     546 non-null    object \n",
      " 8   fullbase    546 non-null    object \n",
      " 9   gashw       546 non-null    object \n",
      " 10  airco       546 non-null    object \n",
      " 11  garagepl    546 non-null    int64  \n",
      " 12  prefarea    546 non-null    object \n",
      "dtypes: float64(1), int64(6), object(6)\n",
      "memory usage: 55.6+ KB\n"
     ]
    }
   ],
   "source": [
    "df.info()"
   ]
  },
  {
   "cell_type": "code",
   "execution_count": 114,
   "id": "75d68628",
   "metadata": {},
   "outputs": [
    {
     "data": {
      "text/plain": [
       "Unnamed: 0    0\n",
       "price         0\n",
       "lotsize       0\n",
       "bedrooms      0\n",
       "bathrms       0\n",
       "stories       0\n",
       "driveway      0\n",
       "recroom       0\n",
       "fullbase      0\n",
       "gashw         0\n",
       "airco         0\n",
       "garagepl      0\n",
       "prefarea      0\n",
       "dtype: int64"
      ]
     },
     "execution_count": 114,
     "metadata": {},
     "output_type": "execute_result"
    }
   ],
   "source": [
    "df.isna().sum()"
   ]
  },
  {
   "cell_type": "code",
   "execution_count": 115,
   "id": "832d4ea2",
   "metadata": {},
   "outputs": [],
   "source": [
    "from sklearn.preprocessing import LabelEncoder"
   ]
  },
  {
   "cell_type": "code",
   "execution_count": 116,
   "id": "1db4a82b",
   "metadata": {},
   "outputs": [],
   "source": [
    "le = LabelEncoder()"
   ]
  },
  {
   "cell_type": "code",
   "execution_count": 117,
   "id": "e56d2074",
   "metadata": {},
   "outputs": [
    {
     "data": {
      "text/html": [
       "<div>\n",
       "<style scoped>\n",
       "    .dataframe tbody tr th:only-of-type {\n",
       "        vertical-align: middle;\n",
       "    }\n",
       "\n",
       "    .dataframe tbody tr th {\n",
       "        vertical-align: top;\n",
       "    }\n",
       "\n",
       "    .dataframe thead th {\n",
       "        text-align: right;\n",
       "    }\n",
       "</style>\n",
       "<table border=\"1\" class=\"dataframe\">\n",
       "  <thead>\n",
       "    <tr style=\"text-align: right;\">\n",
       "      <th></th>\n",
       "      <th>Unnamed: 0</th>\n",
       "      <th>price</th>\n",
       "      <th>lotsize</th>\n",
       "      <th>bedrooms</th>\n",
       "      <th>bathrms</th>\n",
       "      <th>stories</th>\n",
       "      <th>driveway</th>\n",
       "      <th>recroom</th>\n",
       "      <th>fullbase</th>\n",
       "      <th>gashw</th>\n",
       "      <th>airco</th>\n",
       "      <th>garagepl</th>\n",
       "      <th>prefarea</th>\n",
       "    </tr>\n",
       "  </thead>\n",
       "  <tbody>\n",
       "    <tr>\n",
       "      <th>0</th>\n",
       "      <td>1</td>\n",
       "      <td>42000.0</td>\n",
       "      <td>5850</td>\n",
       "      <td>3</td>\n",
       "      <td>1</td>\n",
       "      <td>2</td>\n",
       "      <td>1</td>\n",
       "      <td>0</td>\n",
       "      <td>1</td>\n",
       "      <td>0</td>\n",
       "      <td>0</td>\n",
       "      <td>1</td>\n",
       "      <td>0</td>\n",
       "    </tr>\n",
       "    <tr>\n",
       "      <th>1</th>\n",
       "      <td>2</td>\n",
       "      <td>38500.0</td>\n",
       "      <td>4000</td>\n",
       "      <td>2</td>\n",
       "      <td>1</td>\n",
       "      <td>1</td>\n",
       "      <td>1</td>\n",
       "      <td>0</td>\n",
       "      <td>0</td>\n",
       "      <td>0</td>\n",
       "      <td>0</td>\n",
       "      <td>0</td>\n",
       "      <td>0</td>\n",
       "    </tr>\n",
       "    <tr>\n",
       "      <th>2</th>\n",
       "      <td>3</td>\n",
       "      <td>49500.0</td>\n",
       "      <td>3060</td>\n",
       "      <td>3</td>\n",
       "      <td>1</td>\n",
       "      <td>1</td>\n",
       "      <td>1</td>\n",
       "      <td>0</td>\n",
       "      <td>0</td>\n",
       "      <td>0</td>\n",
       "      <td>0</td>\n",
       "      <td>0</td>\n",
       "      <td>0</td>\n",
       "    </tr>\n",
       "    <tr>\n",
       "      <th>3</th>\n",
       "      <td>4</td>\n",
       "      <td>60500.0</td>\n",
       "      <td>6650</td>\n",
       "      <td>3</td>\n",
       "      <td>1</td>\n",
       "      <td>2</td>\n",
       "      <td>1</td>\n",
       "      <td>1</td>\n",
       "      <td>0</td>\n",
       "      <td>0</td>\n",
       "      <td>0</td>\n",
       "      <td>0</td>\n",
       "      <td>0</td>\n",
       "    </tr>\n",
       "    <tr>\n",
       "      <th>4</th>\n",
       "      <td>5</td>\n",
       "      <td>61000.0</td>\n",
       "      <td>6360</td>\n",
       "      <td>2</td>\n",
       "      <td>1</td>\n",
       "      <td>1</td>\n",
       "      <td>1</td>\n",
       "      <td>0</td>\n",
       "      <td>0</td>\n",
       "      <td>0</td>\n",
       "      <td>0</td>\n",
       "      <td>0</td>\n",
       "      <td>0</td>\n",
       "    </tr>\n",
       "  </tbody>\n",
       "</table>\n",
       "</div>"
      ],
      "text/plain": [
       "   Unnamed: 0    price  lotsize  bedrooms  bathrms  stories  driveway  \\\n",
       "0           1  42000.0     5850         3        1        2         1   \n",
       "1           2  38500.0     4000         2        1        1         1   \n",
       "2           3  49500.0     3060         3        1        1         1   \n",
       "3           4  60500.0     6650         3        1        2         1   \n",
       "4           5  61000.0     6360         2        1        1         1   \n",
       "\n",
       "   recroom  fullbase  gashw  airco  garagepl  prefarea  \n",
       "0        0         1      0      0         1         0  \n",
       "1        0         0      0      0         0         0  \n",
       "2        0         0      0      0         0         0  \n",
       "3        1         0      0      0         0         0  \n",
       "4        0         0      0      0         0         0  "
      ]
     },
     "execution_count": 117,
     "metadata": {},
     "output_type": "execute_result"
    }
   ],
   "source": [
    "cols = [\"driveway\",\"recroom\",\"fullbase\",\"gashw\",\"airco\",\"prefarea\"]\n",
    "for f in cols:\n",
    "    df[f] = le.fit_transform(df[f])\n",
    "df.head()"
   ]
  },
  {
   "cell_type": "code",
   "execution_count": 118,
   "id": "86d84b62",
   "metadata": {},
   "outputs": [],
   "source": [
    "from sklearn.preprocessing import PolynomialFeatures"
   ]
  },
  {
   "cell_type": "code",
   "execution_count": 119,
   "id": "5215f102",
   "metadata": {},
   "outputs": [],
   "source": [
    "x = df.loc[:,df.columns!=\"price\"]\n",
    "y = df[\"price\"]"
   ]
  },
  {
   "cell_type": "code",
   "execution_count": 120,
   "id": "9c0a57af",
   "metadata": {},
   "outputs": [],
   "source": [
    "poly = PolynomialFeatures(degree=2)"
   ]
  },
  {
   "cell_type": "code",
   "execution_count": 121,
   "id": "d4a8213e",
   "metadata": {},
   "outputs": [],
   "source": [
    "xpoly = poly.fit_transform(x)"
   ]
  },
  {
   "cell_type": "code",
   "execution_count": 122,
   "id": "558bd9f4",
   "metadata": {},
   "outputs": [],
   "source": [
    "from sklearn.model_selection import train_test_split"
   ]
  },
  {
   "cell_type": "code",
   "execution_count": 123,
   "id": "c742cfc3",
   "metadata": {},
   "outputs": [],
   "source": [
    "from sklearn.linear_model import LinearRegression"
   ]
  },
  {
   "cell_type": "code",
   "execution_count": 147,
   "id": "64cf21ff",
   "metadata": {},
   "outputs": [],
   "source": [
    "xtrain,xtest,ytrain,ytest = train_test_split(xpoly,y,test_size=0.2,random_state=1)"
   ]
  },
  {
   "cell_type": "code",
   "execution_count": 148,
   "id": "c9fb1363",
   "metadata": {},
   "outputs": [],
   "source": [
    "regressor = LinearRegression()"
   ]
  },
  {
   "cell_type": "code",
   "execution_count": 149,
   "id": "189087b5",
   "metadata": {},
   "outputs": [],
   "source": [
    "pr = regressor.fit(xtrain,ytrain)"
   ]
  },
  {
   "cell_type": "code",
   "execution_count": 150,
   "id": "688f2008",
   "metadata": {},
   "outputs": [
    {
     "name": "stdout",
     "output_type": "stream",
     "text": [
      "Intercept : -67094958090.45498 Co-efficient : [ 6.70949941e+10  4.72645689e+01  1.52720456e+01 -8.70962634e+03\n",
      " -1.32705320e+05  6.14876570e+04 -6.63253974e+02  2.92974017e+04\n",
      "  1.31973328e+04 -3.97156118e+02 -1.55833791e+04  2.77514500e+03\n",
      "  1.05075184e+04  5.70804201e-02 -8.69672077e-03  9.62793142e+00\n",
      "  5.81581851e+01 -6.05643275e+00 -1.04583453e+02  3.71767423e+01\n",
      " -4.09257152e+01 -8.24162480e+01 -6.99405845e+00  1.00013617e+00\n",
      " -1.23703583e+02 -4.51411520e-04  9.42705050e-01  1.06540694e+00\n",
      " -2.58361230e+00 -6.44159155e+00  9.55501808e+00 -4.75390127e+00\n",
      "  5.21451158e+00  1.30449011e+00  1.02012819e+00  8.04856928e+00\n",
      " -2.09421433e+03  1.00414250e+04 -1.34339565e+03  9.90662127e+03\n",
      " -3.31726736e+04  1.10294392e+04 -4.83464498e+03  8.93525654e+03\n",
      " -4.70379133e+03 -5.03521825e+03  2.92000119e+04 -8.14212698e+03\n",
      "  6.24759742e+03 -9.64057333e+02  8.77140864e+03 -1.55591498e+04\n",
      "  2.74779193e+04 -9.45487206e+03 -2.62625265e+04 -6.48772467e+03\n",
      "  5.20771664e+03 -8.40352410e+03 -9.78304043e+03  2.18710343e+03\n",
      " -9.98471258e+03  7.46409404e+03  9.58879945e+03 -6.63253950e+02\n",
      " -9.54801585e+03 -1.93137034e+04  3.72055984e+04  1.46784889e+04\n",
      "  2.63107159e+04  3.25429634e+04  2.92974015e+04  9.66366931e+03\n",
      "  7.91612869e+03  9.41920742e+03  9.16434958e+02 -2.47643344e+04\n",
      "  1.31973331e+04  1.62492381e+04 -1.18639440e+04 -8.03854345e+02\n",
      "  2.41217997e+04 -3.97156093e+02 -1.03953622e+05 -4.69938476e+03\n",
      "  6.91210420e+04 -1.55833793e+04 -1.15583790e+04 -1.18057180e+04\n",
      " -4.28001680e+03 -1.68859117e+04  1.05075185e+04]\n"
     ]
    }
   ],
   "source": [
    "print(\"Intercept :\",pr.intercept_,\"Co-efficient :\",pr.coef_)"
   ]
  },
  {
   "cell_type": "code",
   "execution_count": 151,
   "id": "e1dffa8f",
   "metadata": {},
   "outputs": [],
   "source": [
    "from sklearn.metrics import mean_absolute_error , r2_score"
   ]
  },
  {
   "cell_type": "code",
   "execution_count": 152,
   "id": "03483d5a",
   "metadata": {},
   "outputs": [],
   "source": [
    "from sklearn.metrics import mean_squared_error"
   ]
  },
  {
   "cell_type": "code",
   "execution_count": 153,
   "id": "e782438e",
   "metadata": {},
   "outputs": [],
   "source": [
    "import math"
   ]
  },
  {
   "cell_type": "code",
   "execution_count": 154,
   "id": "33b78bd9",
   "metadata": {},
   "outputs": [],
   "source": [
    "ypred = pr.predict(xtest)"
   ]
  },
  {
   "cell_type": "code",
   "execution_count": 155,
   "id": "0b650abf",
   "metadata": {},
   "outputs": [
    {
     "data": {
      "text/plain": [
       "array([ 28783.75448608,  60722.46401978,  78244.67028809,  73716.35185242,\n",
       "        30400.81032562,  77093.84298706,  27604.98194885,  33937.91520691,\n",
       "        60709.04259491, 105453.3318634 ,  66935.64099121,  85963.94422913,\n",
       "        18302.30297852,  88467.88709259,  47244.65142059,  86924.03035736,\n",
       "        41770.84192657,  47073.441185  ,  94562.49141693,  83980.15813446,\n",
       "        39654.74816132,  61365.67459869,  83161.45709991,  93904.64170074,\n",
       "        89652.2973175 ,  39014.06654358,  29587.79655457,  41333.66374969,\n",
       "        56134.25480652, 111071.5120163 ,  77198.65384674,  49312.10410309,\n",
       "        96845.16995239,  67217.42189026,  62407.93561554,  75756.13069916,\n",
       "        91102.00675964,  59633.53798676,  90437.84468842,  62687.42740631,\n",
       "        55882.97515106,  28124.19033813,  48523.46944427,  60384.33922577,\n",
       "        59481.40878296,  77161.08436584,  53515.05567169,  77342.44342041,\n",
       "        84703.30659485,  47002.35127258,  31623.19841003,  69329.80649567,\n",
       "        53603.00539398, 113727.58231354,  26710.47755432, 104604.15796661,\n",
       "        86042.6565094 ,  58736.17667389,  84335.68032837,  59251.88022614,\n",
       "        85449.08133698,  75061.15612793,  82968.36618805,  47217.51525879,\n",
       "        30801.34733582,  58842.70897675,  59370.76109314,  30657.15610504,\n",
       "        89965.44846344,  87710.36925507,  67203.07463837,  56005.5419693 ,\n",
       "       143991.59439087,  34294.81687164,  77841.32832336,  21125.65131378,\n",
       "        49616.61506653,  54215.05906677,  40891.55268097,  76851.47779846,\n",
       "        48360.35592651,  53706.61081696,  96798.73600006,  48727.75900269,\n",
       "        63735.80341339,  91067.79351807,  42756.95659637, 103593.12610626,\n",
       "       101337.16101074,  28821.12713623,  83578.61222076,  70164.11008453,\n",
       "        77286.29307556,  54803.06988525,  74735.53742218,  57145.70672607,\n",
       "        93158.84763336,  74265.03636932,  83165.18727875,  70909.57631683,\n",
       "        78030.85122681,  36069.30226135,  68117.7755661 ,  48803.35404205,\n",
       "        63157.43287659,  33817.54038239,  88548.01928711,  75202.49624634,\n",
       "        77274.18684387,   5618.32731628])"
      ]
     },
     "execution_count": 155,
     "metadata": {},
     "output_type": "execute_result"
    }
   ],
   "source": [
    "ypred"
   ]
  },
  {
   "cell_type": "code",
   "execution_count": 156,
   "id": "7dcb6666",
   "metadata": {},
   "outputs": [],
   "source": [
    "accuracy = r2_score(ytest,ypred)"
   ]
  },
  {
   "cell_type": "code",
   "execution_count": 157,
   "id": "03f7aa2d",
   "metadata": {},
   "outputs": [],
   "source": [
    "error = mean_squared_error(ytest,ypred)"
   ]
  },
  {
   "cell_type": "code",
   "execution_count": 158,
   "id": "35289e58",
   "metadata": {},
   "outputs": [
    {
     "name": "stdout",
     "output_type": "stream",
     "text": [
      "\t Accuracy =  -0.22087183021316537\n"
     ]
    }
   ],
   "source": [
    "print(\"\\t Accuracy = \",accuracy)"
   ]
  },
  {
   "cell_type": "code",
   "execution_count": 159,
   "id": "9d433c63",
   "metadata": {},
   "outputs": [
    {
     "name": "stdout",
     "output_type": "stream",
     "text": [
      "\t RMSE =  29812.033510669913\n"
     ]
    }
   ],
   "source": [
    "print(\"\\t RMSE = \",math.sqrt(error))"
   ]
  },
  {
   "cell_type": "code",
   "execution_count": 161,
   "id": "d5f484c0",
   "metadata": {},
   "outputs": [
    {
     "data": {
      "image/png": "[encoded data removed]",
      "text/plain": [
       "<Figure size 640x480 with 1 Axes>"
      ]
     },
     "metadata": {},
     "output_type": "display_data"
    }
   ],
   "source": [
    "plt.scatter(ytest,ypred)\n",
    "plt.plot(xtest,ypred,color=\"red\")\n",
    "plt.show()"
   ]
  },
  {
   "cell_type": "code",
   "execution_count": null,
   "id": "73a097c4",
   "metadata": {},
   "outputs": [],
   "source": []
  },
  {
   "cell_type": "code",
   "execution_count": null,
   "id": "5864c9e0",
   "metadata": {},
   "outputs": [],
   "source": []
  }
 ],
 "metadata": {
  "kernelspec": {
   "display_name": "Python 3 (ipykernel)",
   "language": "python",
   "name": "python3"
  },
  "language_info": {
   "codemirror_mode": {
    "name": "ipython",
    "version": 3
   },
   "file_extension": ".py",
   "mimetype": "text/x-python",
   "name": "python",
   "nbconvert_exporter": "python",
   "pygments_lexer": "ipython3",
   "version": "3.10.9"
  }
 },
 "nbformat": 4,
 "nbformat_minor": 5
}
