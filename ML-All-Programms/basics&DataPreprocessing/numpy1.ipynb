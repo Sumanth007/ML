{
 "cells": [
  {
   "cell_type": "code",
   "execution_count": 1,
   "id": "53a6d29e",
   "metadata": {},
   "outputs": [],
   "source": [
    "import numpy as np"
   ]
  },
  {
   "cell_type": "code",
   "execution_count": 24,
   "id": "f4a4c2fa",
   "metadata": {},
   "outputs": [
    {
     "name": "stdout",
     "output_type": "stream",
     "text": [
      "1d array [1 2 3 4]\n"
     ]
    }
   ],
   "source": [
    "print(\"1d array\",np.array([1,2,3,4]))"
   ]
  },
  {
   "cell_type": "code",
   "execution_count": 25,
   "id": "b7650f27",
   "metadata": {},
   "outputs": [
    {
     "name": "stdout",
     "output_type": "stream",
     "text": [
      "Range of values - method -1  [0 1 2 3 4 5 6 7 8 9]\n"
     ]
    }
   ],
   "source": [
    "print(\"Range of values - method -1 \",np.arange(10))"
   ]
  },
  {
   "cell_type": "code",
   "execution_count": 26,
   "id": "9f9d6be5",
   "metadata": {},
   "outputs": [
    {
     "name": "stdout",
     "output_type": "stream",
     "text": [
      "Range of values - method -1  [0 2 4 6 8]\n"
     ]
    }
   ],
   "source": [
    "print(\"Range of values - method -1 \",np.arange(0,10,2))"
   ]
  },
  {
   "cell_type": "code",
   "execution_count": 27,
   "id": "03f28596",
   "metadata": {},
   "outputs": [
    {
     "name": "stdout",
     "output_type": "stream",
     "text": [
      "Range of values - method -1  [10  8  6  4  2]\n"
     ]
    }
   ],
   "source": [
    "print(\"Range of values - method -1 \",np.arange(10,0,-2))"
   ]
  },
  {
   "cell_type": "code",
   "execution_count": 28,
   "id": "79b3cb3d",
   "metadata": {},
   "outputs": [
    {
     "name": "stdout",
     "output_type": "stream",
     "text": [
      "<module 'numpy.version' from 'C:\\\\Users\\\\suman\\\\anaconda3\\\\lib\\\\site-packages\\\\numpy\\\\version.py'>\n"
     ]
    }
   ],
   "source": [
    "print(np.version)"
   ]
  },
  {
   "cell_type": "code",
   "execution_count": 29,
   "id": "9ba87052",
   "metadata": {},
   "outputs": [],
   "source": [
    "arr = np.array([1,2,3,4,5])"
   ]
  },
  {
   "cell_type": "code",
   "execution_count": 30,
   "id": "835af38a",
   "metadata": {},
   "outputs": [
    {
     "data": {
      "text/plain": [
       "numpy.ndarray"
      ]
     },
     "execution_count": 30,
     "metadata": {},
     "output_type": "execute_result"
    }
   ],
   "source": [
    "type(arr)"
   ]
  },
  {
   "cell_type": "code",
   "execution_count": 31,
   "id": "3b9ef2a3",
   "metadata": {},
   "outputs": [
    {
     "name": "stdout",
     "output_type": "stream",
     "text": [
      "<class 'numpy.ndarray'>\n"
     ]
    }
   ],
   "source": [
    "print(type(arr))"
   ]
  },
  {
   "cell_type": "code",
   "execution_count": 32,
   "id": "7990b89d",
   "metadata": {},
   "outputs": [],
   "source": [
    "arr = np.array(42)"
   ]
  },
  {
   "cell_type": "code",
   "execution_count": 33,
   "id": "f61f3823",
   "metadata": {},
   "outputs": [
    {
     "name": "stdout",
     "output_type": "stream",
     "text": [
      "42\n"
     ]
    }
   ],
   "source": [
    "print(arr)"
   ]
  },
  {
   "cell_type": "code",
   "execution_count": 34,
   "id": "e8875e3c",
   "metadata": {},
   "outputs": [],
   "source": [
    "arr = np.array([[1,2,3,4],[1,2,3,4]])"
   ]
  },
  {
   "cell_type": "code",
   "execution_count": 35,
   "id": "bfc949b6",
   "metadata": {},
   "outputs": [
    {
     "name": "stdout",
     "output_type": "stream",
     "text": [
      "[[1 2 3 4]\n",
      " [1 2 3 4]]\n"
     ]
    }
   ],
   "source": [
    "print(arr)"
   ]
  },
  {
   "cell_type": "code",
   "execution_count": 36,
   "id": "b09736a4",
   "metadata": {},
   "outputs": [
    {
     "name": "stdout",
     "output_type": "stream",
     "text": [
      "array using linear space [0.   0.25 0.5  0.75 1.  ]\n"
     ]
    }
   ],
   "source": [
    "print(\"array using linear space\",np.linspace(0,1,5))"
   ]
  },
  {
   "cell_type": "code",
   "execution_count": 37,
   "id": "3c66ddf5",
   "metadata": {},
   "outputs": [
    {
     "name": "stdout",
     "output_type": "stream",
     "text": [
      "array using linear space [0.  0.5 1.  1.5 2. ]\n"
     ]
    }
   ],
   "source": [
    "print(\"array using linear space\",np.linspace(0,2,5))"
   ]
  },
  {
   "cell_type": "code",
   "execution_count": 38,
   "id": "fa8a117b",
   "metadata": {},
   "outputs": [
    {
     "name": "stdout",
     "output_type": "stream",
     "text": [
      "3 D array  [[1 2]\n",
      " [3 4]\n",
      " [5 6]\n",
      " [7 8]]\n"
     ]
    }
   ],
   "source": [
    "print(\"3 D array \",np.array([[1,2],[3,4],[5,6],[7,8]]))"
   ]
  },
  {
   "cell_type": "code",
   "execution_count": 39,
   "id": "af5f5d43",
   "metadata": {},
   "outputs": [
    {
     "name": "stdout",
     "output_type": "stream",
     "text": [
      "zero initialized :  [[0. 0.]\n",
      " [0. 0.]]\n"
     ]
    }
   ],
   "source": [
    "print(\"zero initialized : \",np.zeros([2,2]))"
   ]
  },
  {
   "cell_type": "code",
   "execution_count": 40,
   "id": "cbe03024",
   "metadata": {},
   "outputs": [
    {
     "name": "stdout",
     "output_type": "stream",
     "text": [
      "zero initialized :  [[[0. 0. 0.]\n",
      "  [0. 0. 0.]]\n",
      "\n",
      " [[0. 0. 0.]\n",
      "  [0. 0. 0.]]\n",
      "\n",
      " [[0. 0. 0.]\n",
      "  [0. 0. 0.]]\n",
      "\n",
      " [[0. 0. 0.]\n",
      "  [0. 0. 0.]]]\n"
     ]
    }
   ],
   "source": [
    "print(\"zero initialized : \",np.zeros((4,2,3)))"
   ]
  },
  {
   "cell_type": "code",
   "execution_count": 41,
   "id": "e8af64f4",
   "metadata": {},
   "outputs": [
    {
     "name": "stdout",
     "output_type": "stream",
     "text": [
      "One initialized :  [[[1. 1. 1. 1. 1.]\n",
      "  [1. 1. 1. 1. 1.]]\n",
      "\n",
      " [[1. 1. 1. 1. 1.]\n",
      "  [1. 1. 1. 1. 1.]]\n",
      "\n",
      " [[1. 1. 1. 1. 1.]\n",
      "  [1. 1. 1. 1. 1.]]]\n"
     ]
    }
   ],
   "source": [
    "print(\"One initialized : \",np.ones((3,2,5)))"
   ]
  },
  {
   "cell_type": "code",
   "execution_count": 42,
   "id": "422a43d3",
   "metadata": {},
   "outputs": [
    {
     "name": "stdout",
     "output_type": "stream",
     "text": [
      "Specific number initialized :  [[5 5]\n",
      " [5 5]]\n"
     ]
    }
   ],
   "source": [
    "print(\"Specific number initialized : \",np.full((2,2),5))"
   ]
  },
  {
   "cell_type": "code",
   "execution_count": 43,
   "id": "6edb9fcd",
   "metadata": {},
   "outputs": [],
   "source": [
    "arr = np.array((1,2,3,4,5),ndmin = 5)"
   ]
  },
  {
   "cell_type": "code",
   "execution_count": 44,
   "id": "48e7e22f",
   "metadata": {},
   "outputs": [
    {
     "name": "stdout",
     "output_type": "stream",
     "text": [
      "5\n"
     ]
    }
   ],
   "source": [
    "print(arr.ndim)"
   ]
  },
  {
   "cell_type": "code",
   "execution_count": 45,
   "id": "0ac4b625",
   "metadata": {},
   "outputs": [
    {
     "name": "stdout",
     "output_type": "stream",
     "text": [
      "[[[[[1 2 3 4 5]]]]]\n"
     ]
    }
   ],
   "source": [
    "print(arr)"
   ]
  },
  {
   "cell_type": "code",
   "execution_count": 47,
   "id": "0edd81b9",
   "metadata": {},
   "outputs": [],
   "source": [
    "arr2 = np.array(((1,2,3,4,),(1,2,3,4)))"
   ]
  },
  {
   "cell_type": "code",
   "execution_count": 48,
   "id": "7cf7244e",
   "metadata": {},
   "outputs": [
    {
     "name": "stdout",
     "output_type": "stream",
     "text": [
      "2\n"
     ]
    }
   ],
   "source": [
    "print(arr2.ndivm)"
   ]
  },
  {
   "cell_type": "code",
   "execution_count": 76,
   "id": "3492e97e",
   "metadata": {},
   "outputs": [
    {
     "name": "stdout",
     "output_type": "stream",
     "text": [
      "Specific number initilized [[5 5 5]\n",
      " [5 5 5]]\n"
     ]
    }
   ],
   "source": [
    "print(\"Specific number initilized\",np.full((2,3),5))"
   ]
  },
  {
   "cell_type": "code",
   "execution_count": 77,
   "id": "eb7df490",
   "metadata": {},
   "outputs": [
    {
     "name": "stdout",
     "output_type": "stream",
     "text": [
      "Idientity Matirx array \n",
      " [[1. 0. 0. 0.]\n",
      " [0. 1. 0. 0.]\n",
      " [0. 0. 1. 0.]]\n"
     ]
    }
   ],
   "source": [
    "print(\"Idientity Matirx array \\n\",np.eye(3,4))"
   ]
  },
  {
   "cell_type": "code",
   "execution_count": 79,
   "id": "31a708ab",
   "metadata": {},
   "outputs": [
    {
     "name": "stdout",
     "output_type": "stream",
     "text": [
      "Uninitilized array \n",
      " [[1. 0. 0.]\n",
      " [0. 0. 1.]\n",
      " [0. 0. 0.]\n",
      " [0. 1. 0.]]\n"
     ]
    }
   ],
   "source": [
    "print(\"Uninitilized array \\n\",np.empty((4,3)))"
   ]
  },
  {
   "cell_type": "code",
   "execution_count": 59,
   "id": "31cc0da6",
   "metadata": {},
   "outputs": [
    {
     "name": "stdout",
     "output_type": "stream",
     "text": [
      "Diagonal elements array \n",
      " [[1 0 0 0]\n",
      " [0 2 0 0]\n",
      " [0 0 3 0]\n",
      " [0 0 0 4]]\n"
     ]
    }
   ],
   "source": [
    "print(\"Diagonal elements array \\n\",np.diag([1,2,3,4]))"
   ]
  },
  {
   "cell_type": "code",
   "execution_count": 63,
   "id": "4ff4e2b2",
   "metadata": {},
   "outputs": [
    {
     "name": "stdout",
     "output_type": "stream",
     "text": [
      "Random number array \n",
      "  [[0.26841688 0.21069247]\n",
      " [0.65763799 0.22623962]]\n"
     ]
    }
   ],
   "source": [
    "print(\"Random number array \\n \",np.random.random((2,2)))"
   ]
  },
  {
   "cell_type": "code",
   "execution_count": 65,
   "id": "118c0aaf",
   "metadata": {},
   "outputs": [
    {
     "name": "stdout",
     "output_type": "stream",
     "text": [
      "(2, 4)\n"
     ]
    }
   ],
   "source": [
    "print(arr2.shape)#for checking the size of the array"
   ]
  },
  {
   "cell_type": "code",
   "execution_count": 66,
   "id": "8398c92b",
   "metadata": {},
   "outputs": [
    {
     "name": "stdout",
     "output_type": "stream",
     "text": [
      "8\n"
     ]
    }
   ],
   "source": [
    "print(arr2.size)"
   ]
  },
  {
   "cell_type": "code",
   "execution_count": 74,
   "id": "2009fb76",
   "metadata": {},
   "outputs": [
    {
     "name": "stdout",
     "output_type": "stream",
     "text": [
      "Random arra with elements in specifi range \n",
      "  [[4 9]\n",
      " [7 2]]\n"
     ]
    }
   ],
   "source": [
    "print(\"Random arra with elements in specifi range \\n \",np.random.randint(0,10,(2,2)))"
   ]
  },
  {
   "cell_type": "code",
   "execution_count": 75,
   "id": "225c57fb",
   "metadata": {},
   "outputs": [
    {
     "name": "stdout",
     "output_type": "stream",
     "text": [
      "9\n"
     ]
    }
   ],
   "source": [
    "print(np.random.randint(0,10))"
   ]
  },
  {
   "cell_type": "code",
   "execution_count": 88,
   "id": "fd038750",
   "metadata": {},
   "outputs": [
    {
     "name": "stdout",
     "output_type": "stream",
     "text": [
      "4\n",
      "4\n"
     ]
    }
   ],
   "source": [
    "A1 = np.array(([1,2],[3,4]))\n",
    "print(A1[1][1])\n",
    "print(A1[1,1])"
   ]
  },
  {
   "cell_type": "code",
   "execution_count": 89,
   "id": "c59bae21",
   "metadata": {},
   "outputs": [
    {
     "name": "stdout",
     "output_type": "stream",
     "text": [
      "4\n"
     ]
    }
   ],
   "source": [
    "a = (4)\n",
    "print(a)"
   ]
  },
  {
   "cell_type": "code",
   "execution_count": 90,
   "id": "886f2695",
   "metadata": {},
   "outputs": [
    {
     "name": "stdout",
     "output_type": "stream",
     "text": [
      "(4,)\n"
     ]
    }
   ],
   "source": [
    "a = (4,)\n",
    "print(a)"
   ]
  },
  {
   "cell_type": "code",
   "execution_count": 94,
   "id": "e923f15e",
   "metadata": {},
   "outputs": [
    {
     "name": "stdout",
     "output_type": "stream",
     "text": [
      "[1 2 3 4]\n"
     ]
    }
   ],
   "source": [
    "print(arr2[1:])"
   ]
  },
  {
   "cell_type": "code",
   "execution_count": 98,
   "id": "2ee3142a",
   "metadata": {},
   "outputs": [],
   "source": [
    "arr3 = np.array([[1,32,34,51],[1,31,41,51],[1415,115,1,51],[1,15,1,1]])"
   ]
  },
  {
   "cell_type": "code",
   "execution_count": 99,
   "id": "c958b66c",
   "metadata": {},
   "outputs": [
    {
     "name": "stdout",
     "output_type": "stream",
     "text": [
      "[ 1 31 41 51]\n"
     ]
    }
   ],
   "source": [
    "print(arr3[1])"
   ]
  },
  {
   "cell_type": "code",
   "execution_count": 100,
   "id": "1344ba7f",
   "metadata": {},
   "outputs": [
    {
     "name": "stdout",
     "output_type": "stream",
     "text": [
      "[1415  115    1   51]\n"
     ]
    }
   ],
   "source": [
    "print(arr3[2])"
   ]
  },
  {
   "cell_type": "code",
   "execution_count": 101,
   "id": "42a565ca",
   "metadata": {},
   "outputs": [
    {
     "name": "stdout",
     "output_type": "stream",
     "text": [
      "[ 1 15  1  1]\n"
     ]
    }
   ],
   "source": [
    "print(arr3[-1])"
   ]
  },
  {
   "cell_type": "code",
   "execution_count": 102,
   "id": "be23fed9",
   "metadata": {},
   "outputs": [
    {
     "name": "stdout",
     "output_type": "stream",
     "text": [
      "[[   1   31   41   51]\n",
      " [1415  115    1   51]]\n"
     ]
    }
   ],
   "source": [
    "print(arr3[-3:-1])"
   ]
  },
  {
   "cell_type": "code",
   "execution_count": 103,
   "id": "61cf0937",
   "metadata": {},
   "outputs": [
    {
     "name": "stdout",
     "output_type": "stream",
     "text": [
      "[[   1   31   41   51]\n",
      " [1415  115    1   51]]\n"
     ]
    }
   ],
   "source": [
    "print(arr3[1:-1])"
   ]
  },
  {
   "cell_type": "code",
   "execution_count": 104,
   "id": "c8ffd7fb",
   "metadata": {},
   "outputs": [
    {
     "name": "stdout",
     "output_type": "stream",
     "text": [
      "[[   1   32   34   51]\n",
      " [   1   31   41   51]\n",
      " [1415  115    1   51]\n",
      " [   1   15    1    1]]\n"
     ]
    }
   ],
   "source": [
    "print(arr3[::])"
   ]
  },
  {
   "cell_type": "code",
   "execution_count": 105,
   "id": "2ce269ee",
   "metadata": {},
   "outputs": [
    {
     "name": "stdout",
     "output_type": "stream",
     "text": [
      "[[   1   32   34   51]\n",
      " [1415  115    1   51]]\n"
     ]
    }
   ],
   "source": [
    "print(arr3[::2])"
   ]
  },
  {
   "cell_type": "code",
   "execution_count": 106,
   "id": "57351f55",
   "metadata": {},
   "outputs": [
    {
     "name": "stdout",
     "output_type": "stream",
     "text": [
      "[[1415  115    1   51]\n",
      " [   1   31   41   51]\n",
      " [   1   32   34   51]]\n"
     ]
    }
   ],
   "source": [
    "print(arr3[2::-1])"
   ]
  },
  {
   "cell_type": "code",
   "execution_count": 108,
   "id": "03889a86",
   "metadata": {},
   "outputs": [
    {
     "name": "stdout",
     "output_type": "stream",
     "text": [
      "[]\n"
     ]
    }
   ],
   "source": [
    "print(arr3[1:-3:1])"
   ]
  },
  {
   "cell_type": "code",
   "execution_count": 109,
   "id": "9774be05",
   "metadata": {},
   "outputs": [
    {
     "name": "stdout",
     "output_type": "stream",
     "text": [
      "[[1415  115    1   51]\n",
      " [   1   15    1    1]]\n"
     ]
    }
   ],
   "source": [
    "print(arr3[2:4:1])"
   ]
  },
  {
   "cell_type": "code",
   "execution_count": 111,
   "id": "38c76a2e",
   "metadata": {},
   "outputs": [
    {
     "name": "stdout",
     "output_type": "stream",
     "text": [
      "[[5 5]\n",
      " [5 5]]\n"
     ]
    }
   ],
   "source": [
    "print(np.full([2,2],5))"
   ]
  },
  {
   "cell_type": "code",
   "execution_count": 112,
   "id": "3b3e9d9d",
   "metadata": {},
   "outputs": [
    {
     "name": "stdout",
     "output_type": "stream",
     "text": [
      "[0 1 2 3 4 5 6 7 8 9]\n"
     ]
    }
   ],
   "source": [
    "print(np.arange(10))"
   ]
  },
  {
   "cell_type": "code",
   "execution_count": 116,
   "id": "158ed6e5",
   "metadata": {},
   "outputs": [
    {
     "name": "stdout",
     "output_type": "stream",
     "text": [
      "[ 0 10 20 30 40 50 60 70 80 90]\n"
     ]
    }
   ],
   "source": [
    "print(np.arange(0,100,10))"
   ]
  },
  {
   "cell_type": "code",
   "execution_count": 117,
   "id": "e8656855",
   "metadata": {},
   "outputs": [],
   "source": [
    "arr4 = np.array([[2,3,4,3,6],[1,2,5,7,5],[3,4,3,3,5],[5,6,3,2,1],[3,1,4,5,6]])"
   ]
  },
  {
   "cell_type": "code",
   "execution_count": 118,
   "id": "a07b1ed9",
   "metadata": {},
   "outputs": [
    {
     "name": "stdout",
     "output_type": "stream",
     "text": [
      "[[2 5 7 5]\n",
      " [4 3 3 5]]\n"
     ]
    }
   ],
   "source": [
    "print(arr4[1:3,1:])"
   ]
  },
  {
   "cell_type": "code",
   "execution_count": 119,
   "id": "ac4b49f9",
   "metadata": {},
   "outputs": [
    {
     "name": "stdout",
     "output_type": "stream",
     "text": [
      "[3 2 4 6 1]\n"
     ]
    }
   ],
   "source": [
    "print(arr4[:,1])"
   ]
  },
  {
   "cell_type": "code",
   "execution_count": 120,
   "id": "d6192ead",
   "metadata": {},
   "outputs": [
    {
     "name": "stdout",
     "output_type": "stream",
     "text": [
      "[3 2]\n"
     ]
    }
   ],
   "source": [
    "print(arr4[:2,1])"
   ]
  },
  {
   "cell_type": "code",
   "execution_count": 121,
   "id": "faa786ef",
   "metadata": {},
   "outputs": [
    {
     "name": "stdout",
     "output_type": "stream",
     "text": [
      "[3 4 1]\n"
     ]
    }
   ],
   "source": [
    "print(arr4[::2,1])"
   ]
  },
  {
   "cell_type": "code",
   "execution_count": 123,
   "id": "1cbcd298",
   "metadata": {},
   "outputs": [
    {
     "name": "stdout",
     "output_type": "stream",
     "text": [
      "[[3 1 4 5 6]\n",
      " [5 6 3 2 1]\n",
      " [3 4 3 3 5]\n",
      " [1 2 5 7 5]\n",
      " [2 3 4 3 6]]\n"
     ]
    }
   ],
   "source": [
    "print(arr4[::-1])"
   ]
  },
  {
   "cell_type": "code",
   "execution_count": 125,
   "id": "13bc3179",
   "metadata": {},
   "outputs": [
    {
     "data": {
      "text/plain": [
       "array([3, 2, 4, 6, 1])"
      ]
     },
     "execution_count": 125,
     "metadata": {},
     "output_type": "execute_result"
    }
   ],
   "source": [
    "arr4[:,1]"
   ]
  },
  {
   "cell_type": "code",
   "execution_count": 124,
   "id": "5086ae39",
   "metadata": {},
   "outputs": [
    {
     "name": "stdout",
     "output_type": "stream",
     "text": [
      "[[2 3 4 3 6]\n",
      " [1 2 5 7 5]\n",
      " [3 4 3 3 5]\n",
      " [5 6 3 2 1]\n",
      " [3 1 4 5 6]]\n"
     ]
    }
   ],
   "source": []
  },
  {
   "cell_type": "code",
   "execution_count": null,
   "id": "c05a0958",
   "metadata": {},
   "outputs": [],
   "source": []
  }
 ],
 "metadata": {
  "kernelspec": {
   "display_name": "Python 3 (ipykernel)",
   "language": "python",
   "name": "python3"
  },
  "language_info": {
   "codemirror_mode": {
    "name": "ipython",
    "version": 3
   },
   "file_extension": ".py",
   "mimetype": "text/x-python",
   "name": "python",
   "nbconvert_exporter": "python",
   "pygments_lexer": "ipython3",
   "version": "3.10.9"
  }
 },
 "nbformat": 4,
 "nbformat_minor": 5
}
