{
 "cells": [
  {
   "cell_type": "code",
   "execution_count": 2,
   "metadata": {},
   "outputs": [],
   "source": [
    "import pandas as pd\n",
    "import numpy as np\n",
    "import matplotlib.pyplot as plt\n",
    "from sklearn.preprocessing import StandardScaler\n",
    "from tensorflow.keras.utils import to_categorical\n",
    "from sklearn.model_selection import train_test_split\n",
    "from sklearn.neural_network import MLPClassifier\n",
    "from keras.models import Sequential\n",
    "from keras.layers import Dense\n",
    "from sklearn.metrics import multilabel_confusion_matrix,accuracy_score,confusion_matrix"
   ]
  },
  {
   "cell_type": "code",
   "execution_count": 3,
   "metadata": {},
   "outputs": [
    {
     "data": {
      "text/html": [
       "<div>\n",
       "<style scoped>\n",
       "    .dataframe tbody tr th:only-of-type {\n",
       "        vertical-align: middle;\n",
       "    }\n",
       "\n",
       "    .dataframe tbody tr th {\n",
       "        vertical-align: top;\n",
       "    }\n",
       "\n",
       "    .dataframe thead th {\n",
       "        text-align: right;\n",
       "    }\n",
       "</style>\n",
       "<table border=\"1\" class=\"dataframe\">\n",
       "  <thead>\n",
       "    <tr style=\"text-align: right;\">\n",
       "      <th></th>\n",
       "      <th>fixed acidity;volatile acidity</th>\n",
       "      <th>volatile acidity</th>\n",
       "      <th>citric acid</th>\n",
       "      <th>residual sugar</th>\n",
       "      <th>chlorides</th>\n",
       "      <th>free sulfuer dioxide</th>\n",
       "      <th>total sulfuer dioxide</th>\n",
       "      <th>density</th>\n",
       "      <th>pH</th>\n",
       "      <th>sulphates</th>\n",
       "      <th>alcohol</th>\n",
       "      <th>quality</th>\n",
       "    </tr>\n",
       "  </thead>\n",
       "  <tbody>\n",
       "    <tr>\n",
       "      <th>0</th>\n",
       "      <td>7.4</td>\n",
       "      <td>0.70</td>\n",
       "      <td>0.00</td>\n",
       "      <td>1.9</td>\n",
       "      <td>0.076</td>\n",
       "      <td>11.0</td>\n",
       "      <td>34.0</td>\n",
       "      <td>0.9978</td>\n",
       "      <td>3.51</td>\n",
       "      <td>0.56</td>\n",
       "      <td>9.4</td>\n",
       "      <td>5</td>\n",
       "    </tr>\n",
       "    <tr>\n",
       "      <th>1</th>\n",
       "      <td>7.8</td>\n",
       "      <td>0.88</td>\n",
       "      <td>0.00</td>\n",
       "      <td>2.6</td>\n",
       "      <td>0.098</td>\n",
       "      <td>25.0</td>\n",
       "      <td>67.0</td>\n",
       "      <td>0.9968</td>\n",
       "      <td>3.20</td>\n",
       "      <td>0.68</td>\n",
       "      <td>9.8</td>\n",
       "      <td>5</td>\n",
       "    </tr>\n",
       "    <tr>\n",
       "      <th>2</th>\n",
       "      <td>7.8</td>\n",
       "      <td>0.76</td>\n",
       "      <td>0.04</td>\n",
       "      <td>2.3</td>\n",
       "      <td>0.092</td>\n",
       "      <td>15.0</td>\n",
       "      <td>54.0</td>\n",
       "      <td>0.9970</td>\n",
       "      <td>3.26</td>\n",
       "      <td>0.65</td>\n",
       "      <td>9.8</td>\n",
       "      <td>5</td>\n",
       "    </tr>\n",
       "    <tr>\n",
       "      <th>3</th>\n",
       "      <td>11.2</td>\n",
       "      <td>0.28</td>\n",
       "      <td>0.56</td>\n",
       "      <td>1.9</td>\n",
       "      <td>0.075</td>\n",
       "      <td>17.0</td>\n",
       "      <td>60.0</td>\n",
       "      <td>0.9980</td>\n",
       "      <td>3.16</td>\n",
       "      <td>0.58</td>\n",
       "      <td>9.8</td>\n",
       "      <td>6</td>\n",
       "    </tr>\n",
       "    <tr>\n",
       "      <th>4</th>\n",
       "      <td>7.4</td>\n",
       "      <td>0.70</td>\n",
       "      <td>0.00</td>\n",
       "      <td>1.9</td>\n",
       "      <td>0.076</td>\n",
       "      <td>11.0</td>\n",
       "      <td>34.0</td>\n",
       "      <td>0.9978</td>\n",
       "      <td>3.51</td>\n",
       "      <td>0.56</td>\n",
       "      <td>9.4</td>\n",
       "      <td>5</td>\n",
       "    </tr>\n",
       "  </tbody>\n",
       "</table>\n",
       "</div>"
      ],
      "text/plain": [
       "   fixed acidity;volatile acidity  volatile acidity  citric acid  \\\n",
       "0                             7.4              0.70         0.00   \n",
       "1                             7.8              0.88         0.00   \n",
       "2                             7.8              0.76         0.04   \n",
       "3                            11.2              0.28         0.56   \n",
       "4                             7.4              0.70         0.00   \n",
       "\n",
       "   residual sugar  chlorides  free sulfuer dioxide  total sulfuer dioxide  \\\n",
       "0             1.9      0.076                  11.0                   34.0   \n",
       "1             2.6      0.098                  25.0                   67.0   \n",
       "2             2.3      0.092                  15.0                   54.0   \n",
       "3             1.9      0.075                  17.0                   60.0   \n",
       "4             1.9      0.076                  11.0                   34.0   \n",
       "\n",
       "   density    pH  sulphates  alcohol  quality  \n",
       "0   0.9978  3.51       0.56      9.4        5  \n",
       "1   0.9968  3.20       0.68      9.8        5  \n",
       "2   0.9970  3.26       0.65      9.8        5  \n",
       "3   0.9980  3.16       0.58      9.8        6  \n",
       "4   0.9978  3.51       0.56      9.4        5  "
      ]
     },
     "execution_count": 3,
     "metadata": {},
     "output_type": "execute_result"
    }
   ],
   "source": [
    "df=pd.read_csv(r\"C:\\Users\\suman\\Desktop\\redwine_processed.csv\")\n",
    "df.head()"
   ]
  },
  {
   "cell_type": "code",
   "execution_count": 4,
   "metadata": {},
   "outputs": [
    {
     "data": {
      "text/html": [
       "<div>\n",
       "<style scoped>\n",
       "    .dataframe tbody tr th:only-of-type {\n",
       "        vertical-align: middle;\n",
       "    }\n",
       "\n",
       "    .dataframe tbody tr th {\n",
       "        vertical-align: top;\n",
       "    }\n",
       "\n",
       "    .dataframe thead th {\n",
       "        text-align: right;\n",
       "    }\n",
       "</style>\n",
       "<table border=\"1\" class=\"dataframe\">\n",
       "  <thead>\n",
       "    <tr style=\"text-align: right;\">\n",
       "      <th></th>\n",
       "      <th>fixed acidity;volatile acidity</th>\n",
       "      <th>volatile acidity</th>\n",
       "      <th>citric acid</th>\n",
       "      <th>residual sugar</th>\n",
       "      <th>chlorides</th>\n",
       "      <th>free sulfuer dioxide</th>\n",
       "      <th>total sulfuer dioxide</th>\n",
       "      <th>density</th>\n",
       "      <th>pH</th>\n",
       "      <th>sulphates</th>\n",
       "      <th>alcohol</th>\n",
       "      <th>quality</th>\n",
       "    </tr>\n",
       "  </thead>\n",
       "  <tbody>\n",
       "    <tr>\n",
       "      <th>0</th>\n",
       "      <td>7.4</td>\n",
       "      <td>0.700</td>\n",
       "      <td>0.00</td>\n",
       "      <td>1.9</td>\n",
       "      <td>0.076</td>\n",
       "      <td>11.0</td>\n",
       "      <td>34.0</td>\n",
       "      <td>0.99780</td>\n",
       "      <td>3.51</td>\n",
       "      <td>0.56</td>\n",
       "      <td>9.4</td>\n",
       "      <td>5</td>\n",
       "    </tr>\n",
       "    <tr>\n",
       "      <th>1</th>\n",
       "      <td>7.8</td>\n",
       "      <td>0.880</td>\n",
       "      <td>0.00</td>\n",
       "      <td>2.6</td>\n",
       "      <td>0.098</td>\n",
       "      <td>25.0</td>\n",
       "      <td>67.0</td>\n",
       "      <td>0.99680</td>\n",
       "      <td>3.20</td>\n",
       "      <td>0.68</td>\n",
       "      <td>9.8</td>\n",
       "      <td>5</td>\n",
       "    </tr>\n",
       "    <tr>\n",
       "      <th>2</th>\n",
       "      <td>7.8</td>\n",
       "      <td>0.760</td>\n",
       "      <td>0.04</td>\n",
       "      <td>2.3</td>\n",
       "      <td>0.092</td>\n",
       "      <td>15.0</td>\n",
       "      <td>54.0</td>\n",
       "      <td>0.99700</td>\n",
       "      <td>3.26</td>\n",
       "      <td>0.65</td>\n",
       "      <td>9.8</td>\n",
       "      <td>5</td>\n",
       "    </tr>\n",
       "    <tr>\n",
       "      <th>3</th>\n",
       "      <td>11.2</td>\n",
       "      <td>0.280</td>\n",
       "      <td>0.56</td>\n",
       "      <td>1.9</td>\n",
       "      <td>0.075</td>\n",
       "      <td>17.0</td>\n",
       "      <td>60.0</td>\n",
       "      <td>0.99800</td>\n",
       "      <td>3.16</td>\n",
       "      <td>0.58</td>\n",
       "      <td>9.8</td>\n",
       "      <td>6</td>\n",
       "    </tr>\n",
       "    <tr>\n",
       "      <th>4</th>\n",
       "      <td>7.4</td>\n",
       "      <td>0.700</td>\n",
       "      <td>0.00</td>\n",
       "      <td>1.9</td>\n",
       "      <td>0.076</td>\n",
       "      <td>11.0</td>\n",
       "      <td>34.0</td>\n",
       "      <td>0.99780</td>\n",
       "      <td>3.51</td>\n",
       "      <td>0.56</td>\n",
       "      <td>9.4</td>\n",
       "      <td>5</td>\n",
       "    </tr>\n",
       "    <tr>\n",
       "      <th>...</th>\n",
       "      <td>...</td>\n",
       "      <td>...</td>\n",
       "      <td>...</td>\n",
       "      <td>...</td>\n",
       "      <td>...</td>\n",
       "      <td>...</td>\n",
       "      <td>...</td>\n",
       "      <td>...</td>\n",
       "      <td>...</td>\n",
       "      <td>...</td>\n",
       "      <td>...</td>\n",
       "      <td>...</td>\n",
       "    </tr>\n",
       "    <tr>\n",
       "      <th>1594</th>\n",
       "      <td>6.2</td>\n",
       "      <td>0.600</td>\n",
       "      <td>0.08</td>\n",
       "      <td>2.0</td>\n",
       "      <td>0.090</td>\n",
       "      <td>32.0</td>\n",
       "      <td>44.0</td>\n",
       "      <td>0.99490</td>\n",
       "      <td>3.45</td>\n",
       "      <td>0.58</td>\n",
       "      <td>10.5</td>\n",
       "      <td>5</td>\n",
       "    </tr>\n",
       "    <tr>\n",
       "      <th>1595</th>\n",
       "      <td>5.9</td>\n",
       "      <td>0.550</td>\n",
       "      <td>0.10</td>\n",
       "      <td>2.2</td>\n",
       "      <td>0.062</td>\n",
       "      <td>39.0</td>\n",
       "      <td>51.0</td>\n",
       "      <td>0.99512</td>\n",
       "      <td>3.52</td>\n",
       "      <td>0.76</td>\n",
       "      <td>11.2</td>\n",
       "      <td>6</td>\n",
       "    </tr>\n",
       "    <tr>\n",
       "      <th>1596</th>\n",
       "      <td>6.3</td>\n",
       "      <td>0.510</td>\n",
       "      <td>0.13</td>\n",
       "      <td>2.3</td>\n",
       "      <td>0.076</td>\n",
       "      <td>29.0</td>\n",
       "      <td>40.0</td>\n",
       "      <td>0.99574</td>\n",
       "      <td>3.42</td>\n",
       "      <td>0.75</td>\n",
       "      <td>11.0</td>\n",
       "      <td>6</td>\n",
       "    </tr>\n",
       "    <tr>\n",
       "      <th>1597</th>\n",
       "      <td>5.9</td>\n",
       "      <td>0.645</td>\n",
       "      <td>0.12</td>\n",
       "      <td>2.0</td>\n",
       "      <td>0.075</td>\n",
       "      <td>32.0</td>\n",
       "      <td>44.0</td>\n",
       "      <td>0.99547</td>\n",
       "      <td>3.57</td>\n",
       "      <td>0.71</td>\n",
       "      <td>10.2</td>\n",
       "      <td>5</td>\n",
       "    </tr>\n",
       "    <tr>\n",
       "      <th>1598</th>\n",
       "      <td>6.0</td>\n",
       "      <td>0.310</td>\n",
       "      <td>0.47</td>\n",
       "      <td>3.6</td>\n",
       "      <td>0.067</td>\n",
       "      <td>18.0</td>\n",
       "      <td>42.0</td>\n",
       "      <td>0.99549</td>\n",
       "      <td>3.39</td>\n",
       "      <td>0.66</td>\n",
       "      <td>11.0</td>\n",
       "      <td>6</td>\n",
       "    </tr>\n",
       "  </tbody>\n",
       "</table>\n",
       "<p>1599 rows × 12 columns</p>\n",
       "</div>"
      ],
      "text/plain": [
       "      fixed acidity;volatile acidity  volatile acidity  citric acid  \\\n",
       "0                                7.4             0.700         0.00   \n",
       "1                                7.8             0.880         0.00   \n",
       "2                                7.8             0.760         0.04   \n",
       "3                               11.2             0.280         0.56   \n",
       "4                                7.4             0.700         0.00   \n",
       "...                              ...               ...          ...   \n",
       "1594                             6.2             0.600         0.08   \n",
       "1595                             5.9             0.550         0.10   \n",
       "1596                             6.3             0.510         0.13   \n",
       "1597                             5.9             0.645         0.12   \n",
       "1598                             6.0             0.310         0.47   \n",
       "\n",
       "      residual sugar  chlorides  free sulfuer dioxide  total sulfuer dioxide  \\\n",
       "0                1.9      0.076                  11.0                   34.0   \n",
       "1                2.6      0.098                  25.0                   67.0   \n",
       "2                2.3      0.092                  15.0                   54.0   \n",
       "3                1.9      0.075                  17.0                   60.0   \n",
       "4                1.9      0.076                  11.0                   34.0   \n",
       "...              ...        ...                   ...                    ...   \n",
       "1594             2.0      0.090                  32.0                   44.0   \n",
       "1595             2.2      0.062                  39.0                   51.0   \n",
       "1596             2.3      0.076                  29.0                   40.0   \n",
       "1597             2.0      0.075                  32.0                   44.0   \n",
       "1598             3.6      0.067                  18.0                   42.0   \n",
       "\n",
       "      density    pH  sulphates  alcohol  quality  \n",
       "0     0.99780  3.51       0.56      9.4        5  \n",
       "1     0.99680  3.20       0.68      9.8        5  \n",
       "2     0.99700  3.26       0.65      9.8        5  \n",
       "3     0.99800  3.16       0.58      9.8        6  \n",
       "4     0.99780  3.51       0.56      9.4        5  \n",
       "...       ...   ...        ...      ...      ...  \n",
       "1594  0.99490  3.45       0.58     10.5        5  \n",
       "1595  0.99512  3.52       0.76     11.2        6  \n",
       "1596  0.99574  3.42       0.75     11.0        6  \n",
       "1597  0.99547  3.57       0.71     10.2        5  \n",
       "1598  0.99549  3.39       0.66     11.0        6  \n",
       "\n",
       "[1599 rows x 12 columns]"
      ]
     },
     "execution_count": 4,
     "metadata": {},
     "output_type": "execute_result"
    }
   ],
   "source": [
    "df"
   ]
  },
  {
   "cell_type": "code",
   "execution_count": 5,
   "metadata": {},
   "outputs": [
    {
     "data": {
      "text/plain": [
       "5    681\n",
       "6    638\n",
       "7    199\n",
       "4     53\n",
       "8     18\n",
       "3     10\n",
       "Name: quality, dtype: int64"
      ]
     },
     "execution_count": 5,
     "metadata": {},
     "output_type": "execute_result"
    }
   ],
   "source": [
    "df['quality'].value_counts()"
   ]
  },
  {
   "cell_type": "code",
   "execution_count": 6,
   "metadata": {},
   "outputs": [],
   "source": [
    "X=df.iloc[:,0:11]\n",
    "y=df.iloc[:,11]"
   ]
  },
  {
   "cell_type": "code",
   "execution_count": 7,
   "metadata": {},
   "outputs": [],
   "source": [
    "ss=StandardScaler()\n",
    "X=ss.fit_transform(X)"
   ]
  },
  {
   "cell_type": "code",
   "execution_count": 8,
   "metadata": {},
   "outputs": [],
   "source": [
    "y1=to_categorical(y)"
   ]
  },
  {
   "cell_type": "code",
   "execution_count": 9,
   "metadata": {},
   "outputs": [
    {
     "data": {
      "text/plain": [
       "array([[0., 0., 0., 0., 0., 1., 0., 0., 0.],\n",
       "       [0., 0., 0., 0., 0., 1., 0., 0., 0.],\n",
       "       [0., 0., 0., 0., 0., 1., 0., 0., 0.],\n",
       "       [0., 0., 0., 0., 0., 0., 1., 0., 0.],\n",
       "       [0., 0., 0., 0., 0., 1., 0., 0., 0.],\n",
       "       [0., 0., 0., 0., 0., 1., 0., 0., 0.],\n",
       "       [0., 0., 0., 0., 0., 1., 0., 0., 0.],\n",
       "       [0., 0., 0., 0., 0., 0., 0., 1., 0.],\n",
       "       [0., 0., 0., 0., 0., 0., 0., 1., 0.],\n",
       "       [0., 0., 0., 0., 0., 1., 0., 0., 0.]], dtype=float32)"
      ]
     },
     "execution_count": 9,
     "metadata": {},
     "output_type": "execute_result"
    }
   ],
   "source": [
    "y1[0:10]"
   ]
  },
  {
   "cell_type": "code",
   "execution_count": 10,
   "metadata": {},
   "outputs": [],
   "source": [
    "xtrain,xtest,ytrain,ytest=train_test_split(X,y1,test_size=0.2,random_state=1)"
   ]
  },
  {
   "cell_type": "code",
   "execution_count": 11,
   "metadata": {},
   "outputs": [
    {
     "data": {
      "text/plain": [
       "9"
      ]
     },
     "execution_count": 11,
     "metadata": {},
     "output_type": "execute_result"
    }
   ],
   "source": [
    "ytest.shape[1]"
   ]
  },
  {
   "cell_type": "markdown",
   "metadata": {},
   "source": [
    "### MLP Classifier"
   ]
  },
  {
   "cell_type": "code",
   "execution_count": 12,
   "metadata": {},
   "outputs": [
    {
     "name": "stderr",
     "output_type": "stream",
     "text": [
      "C:\\Users\\suman\\anaconda3\\lib\\site-packages\\sklearn\\neural_network\\_multilayer_perceptron.py:684: ConvergenceWarning: Stochastic Optimizer: Maximum iterations (50) reached and the optimization hasn't converged yet.\n",
      "  warnings.warn(\n"
     ]
    },
    {
     "data": {
      "text/plain": [
       "0.6145426114151681"
      ]
     },
     "execution_count": 12,
     "metadata": {},
     "output_type": "execute_result"
    }
   ],
   "source": [
    "mlp=MLPClassifier(hidden_layer_sizes=(150,100,50),activation=\"relu\",max_iter=50)\n",
    "mlp.fit(xtrain,ytrain)\n",
    "mlp.score(xtrain,ytrain)"
   ]
  },
  {
   "cell_type": "code",
   "execution_count": 13,
   "metadata": {},
   "outputs": [
    {
     "data": {
      "text/plain": [
       "array([[[320,   0],\n",
       "        [  0,   0]],\n",
       "\n",
       "       [[320,   0],\n",
       "        [  0,   0]],\n",
       "\n",
       "       [[320,   0],\n",
       "        [  0,   0]],\n",
       "\n",
       "       [[319,   0],\n",
       "        [  1,   0]],\n",
       "\n",
       "       [[307,   0],\n",
       "        [ 13,   0]],\n",
       "\n",
       "       [[144,  36],\n",
       "        [ 44,  96]],\n",
       "\n",
       "       [[147,  39],\n",
       "        [ 60,  74]],\n",
       "\n",
       "       [[278,  12],\n",
       "        [ 23,   7]],\n",
       "\n",
       "       [[318,   0],\n",
       "        [  2,   0]]], dtype=int64)"
      ]
     },
     "execution_count": 13,
     "metadata": {},
     "output_type": "execute_result"
    }
   ],
   "source": [
    "ypred=mlp.predict(xtest)\n",
    "multilabel_confusion_matrix(ytest,ypred)"
   ]
  },
  {
   "cell_type": "markdown",
   "metadata": {},
   "source": [
    "### Using Keras"
   ]
  },
  {
   "cell_type": "code",
   "execution_count": 14,
   "metadata": {},
   "outputs": [],
   "source": [
    "model=Sequential()\n",
    "model.add(Dense(22,input_dim=11,activation='relu'))\n",
    "model.add(Dense(11,activation=\"relu\"))\n",
    "model.add(Dense(8,activation='relu'))\n",
    "model.add(Dense(9,activation='softmax'))"
   ]
  },
  {
   "cell_type": "code",
   "execution_count": 15,
   "metadata": {},
   "outputs": [],
   "source": [
    "model.compile(optimizer='adam',\n",
    "            loss='categorical_crossentropy',\n",
    "             metrics=['accuracy'])"
   ]
  },
  {
   "cell_type": "code",
   "execution_count": 16,
   "metadata": {},
   "outputs": [
    {
     "name": "stdout",
     "output_type": "stream",
     "text": [
      "Epoch 1/20\n",
      "40/40 [==============================] - 1s 3ms/step - loss: 2.0583 - accuracy: 0.2955\n",
      "Epoch 2/20\n",
      "40/40 [==============================] - 0s 2ms/step - loss: 1.7118 - accuracy: 0.4449\n",
      "Epoch 3/20\n",
      "40/40 [==============================] - 0s 3ms/step - loss: 1.4524 - accuracy: 0.4699\n",
      "Epoch 4/20\n",
      "40/40 [==============================] - 0s 2ms/step - loss: 1.2996 - accuracy: 0.5066\n",
      "Epoch 5/20\n",
      "40/40 [==============================] - 0s 2ms/step - loss: 1.1980 - accuracy: 0.5481\n",
      "Epoch 6/20\n",
      "40/40 [==============================] - 0s 2ms/step - loss: 1.1310 - accuracy: 0.5731\n",
      "Epoch 7/20\n",
      "40/40 [==============================] - 0s 2ms/step - loss: 1.0887 - accuracy: 0.5825\n",
      "Epoch 8/20\n",
      "40/40 [==============================] - 0s 3ms/step - loss: 1.0592 - accuracy: 0.5919\n",
      "Epoch 9/20\n",
      "40/40 [==============================] - 0s 2ms/step - loss: 1.0391 - accuracy: 0.5887\n",
      "Epoch 10/20\n",
      "40/40 [==============================] - 0s 2ms/step - loss: 1.0200 - accuracy: 0.5966\n",
      "Epoch 11/20\n",
      "40/40 [==============================] - 0s 2ms/step - loss: 1.0075 - accuracy: 0.6083\n",
      "Epoch 12/20\n",
      "40/40 [==============================] - 0s 2ms/step - loss: 0.9927 - accuracy: 0.6052\n",
      "Epoch 13/20\n",
      "40/40 [==============================] - 0s 2ms/step - loss: 0.9831 - accuracy: 0.6020\n",
      "Epoch 14/20\n",
      "40/40 [==============================] - 0s 2ms/step - loss: 0.9730 - accuracy: 0.6083\n",
      "Epoch 15/20\n",
      "40/40 [==============================] - 0s 2ms/step - loss: 0.9646 - accuracy: 0.6067\n",
      "Epoch 16/20\n",
      "40/40 [==============================] - 0s 2ms/step - loss: 0.9561 - accuracy: 0.6075\n",
      "Epoch 17/20\n",
      "40/40 [==============================] - 0s 2ms/step - loss: 0.9504 - accuracy: 0.6177\n",
      "Epoch 18/20\n",
      "40/40 [==============================] - 0s 2ms/step - loss: 0.9424 - accuracy: 0.6153\n",
      "Epoch 19/20\n",
      "40/40 [==============================] - 0s 2ms/step - loss: 0.9364 - accuracy: 0.6177\n",
      "Epoch 20/20\n",
      "40/40 [==============================] - 0s 3ms/step - loss: 0.9307 - accuracy: 0.6145\n"
     ]
    }
   ],
   "source": [
    "history=model.fit(xtrain,ytrain,epochs=20)"
   ]
  },
  {
   "cell_type": "code",
   "execution_count": 17,
   "metadata": {},
   "outputs": [
    {
     "name": "stdout",
     "output_type": "stream",
     "text": [
      "10/10 [==============================] - 0s 2ms/step\n"
     ]
    }
   ],
   "source": [
    "ypred=model.predict(xtest)"
   ]
  },
  {
   "cell_type": "code",
   "execution_count": 18,
   "metadata": {},
   "outputs": [
    {
     "name": "stdout",
     "output_type": "stream",
     "text": [
      "40/40 [==============================] - 0s 2ms/step - loss: 0.9212 - accuracy: 0.6208\n",
      "0.6207975149154663\n"
     ]
    }
   ],
   "source": [
    "_,train_accuracy=model.evaluate(xtrain,ytrain)\n",
    "print(train_accuracy)"
   ]
  },
  {
   "cell_type": "code",
   "execution_count": 19,
   "metadata": {},
   "outputs": [
    {
     "name": "stdout",
     "output_type": "stream",
     "text": [
      "10/10 [==============================] - 0s 3ms/step - loss: 0.9607 - accuracy: 0.6375\n",
      "0.637499988079071\n"
     ]
    }
   ],
   "source": [
    "_,test_accuracy=model.evaluate(xtest,ytest)\n",
    "print(test_accuracy)"
   ]
  },
  {
   "cell_type": "code",
   "execution_count": 20,
   "metadata": {},
   "outputs": [
    {
     "data": {
      "text/plain": [
       "array([5, 5, 7, 6, 7, 6, 6, 5, 6, 5, 6, 5, 5, 7, 6, 5, 6, 5, 5, 5, 6, 6,\n",
       "       5, 6, 5, 6, 6, 5, 5, 5, 5, 6, 5, 6, 5, 5, 5, 5, 6, 5, 6, 5, 5, 6,\n",
       "       5, 6, 5, 5, 5, 6, 5, 5, 6, 5, 5, 6, 6, 6, 6, 5, 7, 5, 5, 5, 5, 5,\n",
       "       7, 6, 6, 6, 5, 6, 6, 6, 5, 5, 6, 5, 5, 6, 6, 5, 5, 5, 5, 5, 5, 6,\n",
       "       5, 6, 5, 7, 5, 6, 6, 5, 6, 5, 5, 6, 6, 5, 5, 5, 5, 5, 6, 5, 6, 6,\n",
       "       7, 5, 6, 5, 5, 7, 5, 5, 5, 5, 5, 7, 6, 5, 5, 5, 6, 5, 7, 6, 6, 5,\n",
       "       7, 5, 6, 6, 5, 7, 5, 5, 5, 5, 6, 5, 6, 7, 5, 5, 6, 6, 5, 7, 5, 5,\n",
       "       6, 6, 6, 6, 6, 5, 6, 6, 5, 5, 7, 6, 5, 5, 5, 6, 5, 6, 5, 5, 6, 5,\n",
       "       5, 5, 5, 5, 6, 6, 6, 5, 6, 6, 6, 5, 5, 5, 5, 6, 5, 5, 6, 5, 6, 5,\n",
       "       5, 5, 6, 5, 6, 5, 7, 6, 5, 5, 6, 6, 5, 6, 5, 6, 5, 5, 5, 5, 6, 5,\n",
       "       6, 5, 5, 5, 6, 6, 5, 6, 7, 5, 5, 5, 6, 6, 5, 6, 7, 5, 5, 5, 6, 6,\n",
       "       6, 5, 6, 7, 6, 5, 5, 5, 5, 5, 6, 6, 6, 5, 5, 5, 5, 6, 6, 5, 6, 5,\n",
       "       5, 6, 6, 5, 5, 6, 5, 6, 5, 6, 5, 6, 5, 6, 5, 5, 7, 6, 6, 5, 5, 6,\n",
       "       6, 5, 5, 6, 6, 6, 6, 5, 6, 6, 5, 7, 5, 5, 6, 6, 5, 6, 5, 5, 5, 7,\n",
       "       6, 5, 5, 5, 5, 7, 5, 6, 5, 5, 6, 7], dtype=int64)"
      ]
     },
     "execution_count": 20,
     "metadata": {},
     "output_type": "execute_result"
    }
   ],
   "source": [
    "predicted=np.argmax(ypred,axis=1)\n",
    "predicted"
   ]
  },
  {
   "cell_type": "code",
   "execution_count": 21,
   "metadata": {},
   "outputs": [
    {
     "data": {
      "text/plain": [
       "array([5, 6, 6, 6, 6, 6, 6, 5, 5, 5, 6, 6, 6, 6, 6, 5, 6, 5, 5, 5, 6, 6,\n",
       "       5, 6, 6, 6, 6, 6, 6, 7, 6, 6, 5, 6, 5, 6, 5, 7, 6, 5, 6, 5, 5, 6,\n",
       "       5, 6, 5, 5, 5, 6, 5, 4, 7, 5, 5, 6, 6, 6, 5, 5, 5, 6, 5, 6, 5, 6,\n",
       "       7, 6, 6, 6, 5, 6, 6, 6, 5, 5, 6, 6, 5, 6, 5, 5, 5, 6, 5, 5, 5, 7,\n",
       "       5, 6, 5, 7, 5, 6, 5, 5, 6, 5, 3, 6, 5, 5, 5, 5, 5, 5, 6, 6, 5, 6,\n",
       "       7, 5, 6, 6, 5, 7, 5, 5, 5, 5, 4, 7, 7, 5, 5, 5, 6, 5, 7, 7, 6, 5,\n",
       "       7, 5, 6, 7, 5, 7, 6, 6, 5, 6, 6, 5, 6, 6, 6, 5, 6, 6, 6, 6, 5, 6,\n",
       "       5, 7, 5, 6, 6, 6, 8, 6, 5, 5, 6, 6, 4, 5, 5, 6, 6, 6, 4, 7, 5, 6,\n",
       "       5, 5, 5, 5, 6, 6, 5, 6, 6, 6, 7, 6, 4, 6, 5, 6, 6, 5, 6, 5, 4, 5,\n",
       "       6, 5, 7, 5, 7, 5, 7, 6, 5, 5, 6, 5, 5, 7, 5, 6, 5, 6, 5, 5, 7, 6,\n",
       "       5, 6, 5, 5, 6, 5, 4, 7, 7, 7, 6, 6, 7, 6, 6, 6, 6, 6, 5, 4, 6, 5,\n",
       "       7, 6, 6, 8, 6, 5, 5, 5, 5, 4, 6, 6, 6, 5, 5, 4, 5, 5, 6, 5, 5, 5,\n",
       "       4, 6, 5, 5, 6, 6, 5, 6, 5, 6, 6, 5, 5, 6, 5, 5, 6, 4, 4, 5, 6, 5,\n",
       "       6, 5, 5, 5, 6, 6, 6, 5, 6, 7, 5, 5, 5, 5, 6, 6, 5, 5, 6, 6, 5, 5,\n",
       "       5, 5, 5, 5, 6, 6, 6, 5, 5, 5, 7, 6], dtype=int64)"
      ]
     },
     "execution_count": 21,
     "metadata": {},
     "output_type": "execute_result"
    }
   ],
   "source": [
    "actual=np.argmax(ytest,axis=1)\n",
    "actual"
   ]
  },
  {
   "cell_type": "code",
   "execution_count": 22,
   "metadata": {},
   "outputs": [
    {
     "name": "stdout",
     "output_type": "stream",
     "text": [
      "0.6375\n"
     ]
    }
   ],
   "source": [
    "print(accuracy_score(actual,predicted))"
   ]
  },
  {
   "cell_type": "code",
   "execution_count": 23,
   "metadata": {},
   "outputs": [
    {
     "name": "stdout",
     "output_type": "stream",
     "text": [
      "[[  0   0   1   0   0   0]\n",
      " [  0   0  10   3   0   0]\n",
      " [  0   0 114  23   3   0]\n",
      " [  0   0  44  80  10   0]\n",
      " [  0   0   4  16  10   0]\n",
      " [  0   0   0   1   1   0]]\n"
     ]
    }
   ],
   "source": [
    "print(confusion_matrix(actual,predicted))"
   ]
  },
  {
   "cell_type": "code",
   "execution_count": 24,
   "metadata": {},
   "outputs": [],
   "source": [
    "loss_values=history.history['loss']"
   ]
  },
  {
   "cell_type": "code",
   "execution_count": 25,
   "metadata": {},
   "outputs": [],
   "source": [
    "import matplotlib.pyplot as plt"
   ]
  },
  {
   "cell_type": "code",
   "execution_count": 26,
   "metadata": {},
   "outputs": [
    {
     "data": {
      "image/png": "[encoded data removed]",
      "text/plain": [
       "<Figure size 640x480 with 1 Axes>"
      ]
     },
     "metadata": {},
     "output_type": "display_data"
    }
   ],
   "source": [
    "plt.plot(loss_values)\n",
    "plt.show()"
   ]
  },
  {
   "cell_type": "code",
   "execution_count": null,
   "metadata": {},
   "outputs": [],
   "source": []
  }
 ],
 "metadata": {
  "kernelspec": {
   "display_name": "Python 3 (ipykernel)",
   "language": "python",
   "name": "python3"
  },
  "language_info": {
   "codemirror_mode": {
    "name": "ipython",
    "version": 3
   },
   "file_extension": ".py",
   "mimetype": "text/x-python",
   "name": "python",
   "nbconvert_exporter": "python",
   "pygments_lexer": "ipython3",
   "version": "3.10.9"
  }
 },
 "nbformat": 4,
 "nbformat_minor": 4
}
