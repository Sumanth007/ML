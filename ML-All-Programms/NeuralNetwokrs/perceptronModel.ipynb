{
 "cells": [
  {
   "cell_type": "code",
   "execution_count": 51,
   "id": "6d85b7bd",
   "metadata": {},
   "outputs": [],
   "source": [
    "import pandas as pd\n",
    "# df = pd.DataFrame({\"X1\":[0,0,1,1],\"X2\":[0,1,0,1],\"y\":[0,1,1,0]}) # XOR\n",
    "df = pd.DataFrame({\"X1\":[0,0,1,1],\"X2\":[0,1,0,1],\"y\":[0,0,0,1]}) # AND\n",
    "# df = pd.DataFrame({\"X1\":[0,0,1,1],\"X2\":[0,1,0,1],\"y\":[0,1,1,1]}) # OR"
   ]
  },
  {
   "cell_type": "code",
   "execution_count": 52,
   "id": "bbc5b987",
   "metadata": {},
   "outputs": [
    {
     "data": {
      "text/html": [
       "<div>\n",
       "<style scoped>\n",
       "    .dataframe tbody tr th:only-of-type {\n",
       "        vertical-align: middle;\n",
       "    }\n",
       "\n",
       "    .dataframe tbody tr th {\n",
       "        vertical-align: top;\n",
       "    }\n",
       "\n",
       "    .dataframe thead th {\n",
       "        text-align: right;\n",
       "    }\n",
       "</style>\n",
       "<table border=\"1\" class=\"dataframe\">\n",
       "  <thead>\n",
       "    <tr style=\"text-align: right;\">\n",
       "      <th></th>\n",
       "      <th>X1</th>\n",
       "      <th>X2</th>\n",
       "      <th>y</th>\n",
       "    </tr>\n",
       "  </thead>\n",
       "  <tbody>\n",
       "    <tr>\n",
       "      <th>0</th>\n",
       "      <td>0</td>\n",
       "      <td>0</td>\n",
       "      <td>0</td>\n",
       "    </tr>\n",
       "    <tr>\n",
       "      <th>1</th>\n",
       "      <td>0</td>\n",
       "      <td>1</td>\n",
       "      <td>0</td>\n",
       "    </tr>\n",
       "    <tr>\n",
       "      <th>2</th>\n",
       "      <td>1</td>\n",
       "      <td>0</td>\n",
       "      <td>0</td>\n",
       "    </tr>\n",
       "    <tr>\n",
       "      <th>3</th>\n",
       "      <td>1</td>\n",
       "      <td>1</td>\n",
       "      <td>1</td>\n",
       "    </tr>\n",
       "  </tbody>\n",
       "</table>\n",
       "</div>"
      ],
      "text/plain": [
       "   X1  X2  y\n",
       "0   0   0  0\n",
       "1   0   1  0\n",
       "2   1   0  0\n",
       "3   1   1  1"
      ]
     },
     "execution_count": 52,
     "metadata": {},
     "output_type": "execute_result"
    }
   ],
   "source": [
    "df"
   ]
  },
  {
   "cell_type": "code",
   "execution_count": 53,
   "id": "a064aea7",
   "metadata": {},
   "outputs": [],
   "source": [
    "from sklearn.linear_model import Perceptron"
   ]
  },
  {
   "cell_type": "code",
   "execution_count": 54,
   "id": "132cfac7",
   "metadata": {},
   "outputs": [],
   "source": [
    "X = df[[\"X1\",\"X2\"]]\n",
    "y = df.y"
   ]
  },
  {
   "cell_type": "code",
   "execution_count": 55,
   "id": "f654e3e3",
   "metadata": {},
   "outputs": [
    {
     "data": {
      "text/plain": [
       "1.0"
      ]
     },
     "execution_count": 55,
     "metadata": {},
     "output_type": "execute_result"
    }
   ],
   "source": [
    "model = Perceptron()\n",
    "model.fit(X,y)\n",
    "model.score(X,y)"
   ]
  },
  {
   "cell_type": "code",
   "execution_count": 56,
   "id": "f1a5e929",
   "metadata": {
    "scrolled": true
   },
   "outputs": [
    {
     "data": {
      "text/plain": [
       "array([0, 0, 0, 1], dtype=int64)"
      ]
     },
     "execution_count": 56,
     "metadata": {},
     "output_type": "execute_result"
    }
   ],
   "source": [
    "ypred = model.predict(X)\n",
    "ypred"
   ]
  },
  {
   "cell_type": "code",
   "execution_count": 57,
   "id": "fd3a4a02",
   "metadata": {},
   "outputs": [
    {
     "name": "stderr",
     "output_type": "stream",
     "text": [
      "C:\\Users\\suman\\anaconda3\\lib\\site-packages\\sklearn\\neural_network\\_multilayer_perceptron.py:684: ConvergenceWarning: Stochastic Optimizer: Maximum iterations (100) reached and the optimization hasn't converged yet.\n",
      "  warnings.warn(\n"
     ]
    },
    {
     "data": {
      "text/plain": [
       "1.0"
      ]
     },
     "execution_count": 57,
     "metadata": {},
     "output_type": "execute_result"
    }
   ],
   "source": [
    "from sklearn.neural_network import MLPClassifier\n",
    "nn = MLPClassifier(hidden_layer_sizes=(50,10),activation=\"relu\",max_iter=100)\n",
    "nn.fit(X,y)\n",
    "nn.score(X,y)"
   ]
  },
  {
   "cell_type": "code",
   "execution_count": 58,
   "id": "c6385851",
   "metadata": {},
   "outputs": [
    {
     "data": {
      "text/plain": [
       "array([-2.01167372e-02, -1.39236814e-01, -4.46896861e-02,  3.12195041e-01,\n",
       "       -2.32647514e-01, -3.15143755e-01,  3.75656394e-01,  2.44535725e-01,\n",
       "        5.03130745e-02,  1.28572863e-02,  1.02735655e-04,  1.18646962e-01,\n",
       "       -1.97275561e-01, -2.11490033e-01,  2.76014564e-01,  2.66370004e-01,\n",
       "       -1.93191480e-01, -2.32249086e-01, -1.34387113e-01,  4.12627435e-01,\n",
       "        3.96543248e-01,  2.84877714e-01, -2.88342840e-01, -2.26860569e-01,\n",
       "       -2.29423629e-01, -1.22679395e-01,  2.96227825e-01,  3.61597225e-01,\n",
       "        3.38659178e-01,  4.51875366e-04,  3.95259650e-01,  2.36978583e-01,\n",
       "       -6.37025185e-02,  2.63530020e-01, -8.59886328e-03, -2.40464277e-01,\n",
       "       -2.44659896e-01,  2.95878189e-01, -3.90080410e-04, -1.71923765e-01,\n",
       "        3.52871442e-01, -5.36883397e-02, -1.99616441e-01,  1.12240481e-01,\n",
       "        6.99950309e-02,  3.23697968e-01,  6.68749700e-02,  1.01851297e-01,\n",
       "       -4.60860584e-02, -2.68377542e-02])"
      ]
     },
     "execution_count": 58,
     "metadata": {},
     "output_type": "execute_result"
    }
   ],
   "source": [
    "nn.coefs_[0][0]"
   ]
  },
  {
   "cell_type": "code",
   "execution_count": 59,
   "id": "25d447b7",
   "metadata": {},
   "outputs": [
    {
     "data": {
      "text/plain": [
       "[array([ 0.15759247, -0.20553602,  0.17374285, -0.08923064,  0.15186207,\n",
       "         0.18451905, -0.11660439, -0.01633302,  0.34449413,  0.13345055,\n",
       "        -0.15669011,  0.00466647, -0.2625588 , -0.13978155, -0.06320687,\n",
       "        -0.2662654 , -0.17762509, -0.22226772,  0.04880719, -0.30400078,\n",
       "        -0.12142168,  0.16117458, -0.0448497 ,  0.15550712, -0.31837629,\n",
       "         0.19659608, -0.29572545, -0.17559731, -0.15582584, -0.09235616,\n",
       "        -0.12687365, -0.32909336,  0.00204321, -0.10364869,  0.01580925,\n",
       "         0.14850722,  0.13855303,  0.18577446, -0.12826295, -0.05263918,\n",
       "         0.02458901, -0.25048595, -0.30987598,  0.19287642,  0.35665395,\n",
       "        -0.00962255,  0.18986728, -0.31604802,  0.25228264,  0.00892967]),\n",
       " array([-0.02297415,  0.10070866, -0.19896828, -0.15596876,  0.40433404,\n",
       "        -0.26108682,  0.20193398, -0.00854186, -0.09637958, -0.16770891]),\n",
       " array([-0.47438849])]"
      ]
     },
     "execution_count": 59,
     "metadata": {},
     "output_type": "execute_result"
    }
   ],
   "source": [
    "nn.intercepts_"
   ]
  },
  {
   "cell_type": "code",
   "execution_count": 60,
   "id": "7287f1b9",
   "metadata": {},
   "outputs": [
    {
     "data": {
      "text/plain": [
       "<function matplotlib.pyplot.show(close=None, block=None)>"
      ]
     },
     "execution_count": 60,
     "metadata": {},
     "output_type": "execute_result"
    },
    {
     "data": {
      "image/png": "[encoded data removed]",
      "text/plain": [
       "<Figure size 640x480 with 1 Axes>"
      ]
     },
     "metadata": {},
     "output_type": "display_data"
    }
   ],
   "source": [
    "loss = nn.loss_curve_\n",
    "\n",
    "import matplotlib.pyplot as plt\n",
    "plt.plot(loss)\n",
    "plt.show"
   ]
  },
  {
   "cell_type": "code",
   "execution_count": null,
   "id": "97deb106",
   "metadata": {},
   "outputs": [],
   "source": [
    "+"
   ]
  }
 ],
 "metadata": {
  "kernelspec": {
   "display_name": "Python 3 (ipykernel)",
   "language": "python",
   "name": "python3"
  },
  "language_info": {
   "codemirror_mode": {
    "name": "ipython",
    "version": 3
   },
   "file_extension": ".py",
   "mimetype": "text/x-python",
   "name": "python",
   "nbconvert_exporter": "python",
   "pygments_lexer": "ipython3",
   "version": "3.10.9"
  }
 },
 "nbformat": 4,
 "nbformat_minor": 5
}
